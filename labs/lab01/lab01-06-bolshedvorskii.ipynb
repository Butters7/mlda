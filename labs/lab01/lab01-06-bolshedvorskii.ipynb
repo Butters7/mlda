{
 "cells": [
  {
   "cell_type": "markdown",
   "id": "4d7cfb17",
   "metadata": {},
   "source": [
    "# Метод наименьших квадратов (Least squares approximation)"
   ]
  },
  {
   "cell_type": "markdown",
   "id": "cc234468",
   "metadata": {},
   "source": [
    "**Цель работы:** ознакомление с методом аппроксимации функций.\n",
    "\n",
    "Продолжительность работы: - 4 часа.\n",
    "\n",
    "Мягкий дедлайн (10 баллов): 03.10.2023\n",
    "\n",
    "Жесткий дедлайн (5 баллов): 17.10.2023"
   ]
  },
  {
   "cell_type": "markdown",
   "id": "97809080",
   "metadata": {},
   "source": [
    "## Задание\n",
    "\n",
    "Дана таблица значений некоторой функциональной зависимости, полученной из $n = 6$ опытов\n",
    "\n",
    "1. Методом наименьших квадратов по данной табличной зависимости найти аппроксимирующую функцию в виде:\n",
    "\n",
    "  1.1) линейной функции $y = ax + b$;\n",
    "\n",
    "  1.2) степенной функции $y = \\beta \\cdot x^a$;\n",
    "\n",
    "  1.3) показательной функции $y = \\beta \\cdot e^{ax}$;\n",
    "\n",
    "  1.4) квадратичной функции $y = ax^2 + bx + c$.\n",
    "\n",
    "2. Построить в плоскости $xOy$ графики полученных функций и нанести экспериментальные точки.\n",
    "\n",
    "3. Сравнить полученные результаты.\n",
    "\n",
    "\n",
    "Промежуточные вычисления вести с точностью до 0,0001.\n",
    "\n",
    "Значения параметров $a$, $b$, $c$ округлить до 0,01."
   ]
  },
  {
   "cell_type": "markdown",
   "id": "fa120210",
   "metadata": {},
   "source": [
    "## Вариант 6  \n",
    "\n",
    "|$x$ | 1 | 4 | 7 | 10 | 13 | 16 | \n",
    "|:--:|:---:|:---:|:---:|:---:|:---:|:---:|\n",
    "|$y$ | 3,0 | 7,6 | 11,2 | 13,8 | 17,1 | 19,5 | \n"
   ]
  },
  {
   "cell_type": "markdown",
   "id": "60c2c63c",
   "metadata": {},
   "source": [
    "## Решение"
   ]
  },
  {
   "cell_type": "code",
   "execution_count": null,
   "id": "f8f40f01",
   "metadata": {},
   "outputs": [],
   "source": []
  }
 ],
 "metadata": {
  "kernelspec": {
   "display_name": "Python 3 (ipykernel)",
   "language": "python",
   "name": "python3"
  },
  "language_info": {
   "codemirror_mode": {
    "name": "ipython",
    "version": 3
   },
   "file_extension": ".py",
   "mimetype": "text/x-python",
   "name": "python",
   "nbconvert_exporter": "python",
   "pygments_lexer": "ipython3",
   "version": "3.11.4"
  }
 },
 "nbformat": 4,
 "nbformat_minor": 5
}
