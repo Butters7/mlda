{
 "cells": [
  {
   "cell_type": "markdown",
   "id": "9dd717eb",
   "metadata": {},
   "source": [
    "## Первичный анализ данных\n",
    "\n",
    "\n",
    "### Цель работы\n",
    "\n",
    "изучение программных средств для организации рабочего места специалиста по машинному обучению и анализу данных.\n",
    "\n",
    "### Задачи \n",
    "\n",
    " - получение программного доступа к данным, содержащимся в источниках различного типа;\n",
    " - выполнение предварительного анализа данных и получение обобщенных характеристик наборов данных;\n",
    " - исследование простых методов визуализации данных;\n",
    " - изучение основных библиотек Python для работы с данными.\n",
    "\n",
    "### Продолжительность и сроки сдачи\n",
    "\n",
    "Продолжительность работы: - 4 часа.\n",
    "\n",
    "Мягкий дедлайн (5 баллов): 10.10.2023\n",
    "\n",
    "Жесткий дедлайн (2.5 баллов): 24.10.2023\n"
   ]
  },
  {
   "cell_type": "markdown",
   "id": "62f62410",
   "metadata": {},
   "source": [
    "### Индивидуальное задание\n",
    "\n",
    "#### 1. Выбор набора данных"
   ]
  },
  {
   "cell_type": "markdown",
   "id": "be9936ee",
   "metadata": {},
   "source": [
    "Для выполнения задания был выбранны [данные](https://www.kaggle.com/datasets/nelgiriyewithana/countries-of-the-world-2023/), содержащие общую информацию о сущевствующих на данный момент странах."
   ]
  },
  {
   "cell_type": "markdown",
   "id": "b0554845",
   "metadata": {},
   "source": [
    "#### 2. Анализ"
   ]
  },
  {
   "cell_type": "markdown",
   "id": "e2ec1e9e",
   "metadata": {},
   "source": [
    "##### 2.1. Описание набора данных"
   ]
  },
  {
   "cell_type": "markdown",
   "id": "6cb543dc",
   "metadata": {},
   "source": [
    "This comprehensive dataset provides a wealth of information about all countries worldwide, covering a wide range of indicators and attributes. It encompasses demographic statistics, economic indicators, environmental factors, healthcare metrics, education statistics, and much more. With every country represented, this dataset offers a complete global perspective on various aspects of nations, enabling in-depth analyses and cross-country comparisons."
   ]
  },
  {
   "cell_type": "markdown",
   "id": "ef05c12f",
   "metadata": {},
   "source": [
    "Potential Use Cases:"
   ]
  },
  {
   "cell_type": "markdown",
   "id": "55fdcc87",
   "metadata": {},
   "source": [
    "\n",
    "\n",
    "        Analyze population density and land area to study spatial distribution patterns.\n",
    "        Investigate the relationship between agricultural land and food security.\n",
    "        Examine carbon dioxide emissions and their impact on climate change.\n",
    "        Explore correlations between economic indicators such as GDP and various socio-economic factors.\n",
    "        Investigate educational enrollment rates and their implications for human capital development.\n",
    "        Analyze healthcare metrics such as infant mortality and life expectancy to assess overall well-being.\n",
    "        Study labor market dynamics through indicators such as labor force participation and unemployment rates.\n",
    "        Investigate the role of taxation and its impact on economic development.\n",
    "        Explore urbanization trends and their social and environmental consequences.\n",
    "\n"
   ]
  },
  {
   "cell_type": "markdown",
   "id": "1d7f710a",
   "metadata": {},
   "source": [
    "##### 2.2. Форма набора данныx"
   ]
  },
  {
   "cell_type": "markdown",
   "id": "b626b57e",
   "metadata": {},
   "source": [
    "количество элементов набора, количество признаков, количество пропущенных значений, среднее значение отдельных\n",
    "    признаков, максимальные и минимальные значения отдельных признаков и прочие показатели.\n",
    "    Предположения, которые можно сделать, проведя первичный анализ."
   ]
  },
  {
   "cell_type": "code",
   "execution_count": 17,
   "id": "30c00e41",
   "metadata": {},
   "outputs": [
    {
     "ename": "ValueError",
     "evalue": "Some errors were detected !\n    Line #2 (got 34 columns instead of 2)\n    Line #3 (got 45 columns instead of 2)\n    Line #4 (got 45 columns instead of 2)\n    Line #5 (got 46 columns instead of 2)\n    Line #6 (got 40 columns instead of 2)\n    Line #7 (got 46 columns instead of 2)\n    Line #8 (got 42 columns instead of 2)\n    Line #9 (got 46 columns instead of 2)\n    Line #10 (got 45 columns instead of 2)\n    Line #11 (got 47 columns instead of 2)\n    Line #12 (got 45 columns instead of 2)\n    Line #13 (got 45 columns instead of 2)\n    Line #14 (got 45 columns instead of 2)\n    Line #15 (got 45 columns instead of 2)\n    Line #16 (got 46 columns instead of 2)\n    Line #17 (got 42 columns instead of 2)\n    Line #18 (got 45 columns instead of 2)\n    Line #19 (got 45 columns instead of 2)\n    Line #20 (got 42 columns instead of 2)\n    Line #21 (got 45 columns instead of 2)\n    Line #22 (got 43 columns instead of 2)\n    Line #23 (got 46 columns instead of 2)\n    Line #24 (got 45 columns instead of 2)\n    Line #25 (got 45 columns instead of 2)\n    Line #26 (got 47 columns instead of 2)\n    Line #27 (got 43 columns instead of 2)\n    Line #28 (got 45 columns instead of 2)\n    Line #29 (got 45 columns instead of 2)\n    Line #30 (got 44 columns instead of 2)\n    Line #31 (got 45 columns instead of 2)\n    Line #32 (got 42 columns instead of 2)\n    Line #33 (got 45 columns instead of 2)\n    Line #34 (got 45 columns instead of 2)\n    Line #35 (got 47 columns instead of 2)\n    Line #36 (got 44 columns instead of 2)\n    Line #37 (got 46 columns instead of 2)\n    Line #38 (got 45 columns instead of 2)\n    Line #39 (got 50 columns instead of 2)\n    Line #40 (got 46 columns instead of 2)\n    Line #41 (got 43 columns instead of 2)\n    Line #42 (got 45 columns instead of 2)\n    Line #43 (got 45 columns instead of 2)\n    Line #44 (got 45 columns instead of 2)\n    Line #45 (got 45 columns instead of 2)\n    Line #46 (got 44 columns instead of 2)\n    Line #47 (got 45 columns instead of 2)\n    Line #48 (got 46 columns instead of 2)\n    Line #49 (got 45 columns instead of 2)\n    Line #50 (got 42 columns instead of 2)\n    Line #51 (got 39 columns instead of 2)\n    Line #52 (got 45 columns instead of 2)\n    Line #53 (got 45 columns instead of 2)\n    Line #54 (got 46 columns instead of 2)\n    Line #55 (got 45 columns instead of 2)\n    Line #56 (got 44 columns instead of 2)\n    Line #57 (got 44 columns instead of 2)\n    Line #58 (got 44 columns instead of 2)\n    Line #59 (got 41 columns instead of 2)\n    Line #60 (got 46 columns instead of 2)\n    Line #61 (got 43 columns instead of 2)\n    Line #62 (got 45 columns instead of 2)\n    Line #63 (got 46 columns instead of 2)\n    Line #64 (got 45 columns instead of 2)\n    Line #65 (got 44 columns instead of 2)\n    Line #66 (got 45 columns instead of 2)\n    Line #67 (got 46 columns instead of 2)\n    Line #68 (got 45 columns instead of 2)\n    Line #69 (got 45 columns instead of 2)\n    Line #70 (got 42 columns instead of 2)\n    Line #71 (got 45 columns instead of 2)\n    Line #72 (got 45 columns instead of 2)\n    Line #73 (got 43 columns instead of 2)\n    Line #74 (got 45 columns instead of 2)\n    Line #75 (got 44 columns instead of 2)\n    Line #76 (got 36 columns instead of 2)\n    Line #77 (got 45 columns instead of 2)\n    Line #78 (got 45 columns instead of 2)\n    Line #79 (got 42 columns instead of 2)\n    Line #80 (got 50 columns instead of 2)\n    Line #81 (got 47 columns instead of 2)\n    Line #82 (got 46 columns instead of 2)\n    Line #83 (got 45 columns instead of 2)\n    Line #84 (got 45 columns instead of 2)\n    Line #85 (got 45 columns instead of 2)\n    Line #86 (got 46 columns instead of 2)\n    Line #87 (got 47 columns instead of 2)\n    Line #88 (got 47 columns instead of 2)\n    Line #89 (got 45 columns instead of 2)\n    Line #90 (got 46 columns instead of 2)\n    Line #91 (got 45 columns instead of 2)\n    Line #92 (got 39 columns instead of 2)\n    Line #93 (got 45 columns instead of 2)\n    Line #94 (got 45 columns instead of 2)\n    Line #95 (got 45 columns instead of 2)\n    Line #96 (got 45 columns instead of 2)\n    Line #97 (got 46 columns instead of 2)\n    Line #98 (got 44 columns instead of 2)\n    Line #99 (got 45 columns instead of 2)\n    Line #100 (got 45 columns instead of 2)\n    Line #101 (got 40 columns instead of 2)\n    Line #102 (got 45 columns instead of 2)\n    Line #103 (got 43 columns instead of 2)\n    Line #104 (got 45 columns instead of 2)\n    Line #105 (got 45 columns instead of 2)\n    Line #106 (got 45 columns instead of 2)\n    Line #107 (got 43 columns instead of 2)\n    Line #108 (got 46 columns instead of 2)\n    Line #109 (got 43 columns instead of 2)\n    Line #110 (got 39 columns instead of 2)\n    Line #111 (got 46 columns instead of 2)\n    Line #112 (got 44 columns instead of 2)\n    Line #113 (got 47 columns instead of 2)\n    Line #114 (got 39 columns instead of 2)\n    Line #115 (got 45 columns instead of 2)\n    Line #116 (got 41 columns instead of 2)\n    Line #117 (got 46 columns instead of 2)\n    Line #118 (got 43 columns instead of 2)\n    Line #119 (got 45 columns instead of 2)\n    Line #120 (got 45 columns instead of 2)\n    Line #121 (got 45 columns instead of 2)\n    Line #122 (got 45 columns instead of 2)\n    Line #123 (got 38 columns instead of 2)\n    Line #124 (got 45 columns instead of 2)\n    Line #125 (got 45 columns instead of 2)\n    Line #126 (got 45 columns instead of 2)\n    Line #127 (got 45 columns instead of 2)\n    Line #128 (got 46 columns instead of 2)\n    Line #129 (got 45 columns instead of 2)\n    Line #130 (got 46 columns instead of 2)\n    Line #131 (got 41 columns instead of 2)\n    Line #132 (got 45 columns instead of 2)\n    Line #133 (got 45 columns instead of 2)\n    Line #134 (got 45 columns instead of 2)\n    Line #135 (got 39 columns instead of 2)\n    Line #136 (got 35 columns instead of 2)\n    Line #137 (got 45 columns instead of 2)\n    Line #138 (got 45 columns instead of 2)\n    Line #139 (got 45 columns instead of 2)\n    Line #140 (got 46 columns instead of 2)\n    Line #141 (got 45 columns instead of 2)\n    Line #142 (got 45 columns instead of 2)\n    Line #143 (got 45 columns instead of 2)\n    Line #144 (got 45 columns instead of 2)\n    Line #145 (got 45 columns instead of 2)\n    Line #146 (got 49 columns instead of 2)\n    Line #147 (got 45 columns instead of 2)\n    Line #148 (got 40 columns instead of 2)\n    Line #149 (got 40 columns instead of 2)\n    Line #150 (got 39 columns instead of 2)\n    Line #151 (got 40 columns instead of 2)\n    Line #152 (got 40 columns instead of 2)\n    Line #153 (got 40 columns instead of 2)\n    Line #154 (got 46 columns instead of 2)\n    Line #155 (got 45 columns instead of 2)\n    Line #156 (got 45 columns instead of 2)\n    Line #157 (got 42 columns instead of 2)\n    Line #158 (got 45 columns instead of 2)\n    Line #159 (got 45 columns instead of 2)\n    Line #160 (got 45 columns instead of 2)\n    Line #161 (got 45 columns instead of 2)\n    Line #162 (got 41 columns instead of 2)\n    Line #163 (got 44 columns instead of 2)\n    Line #164 (got 46 columns instead of 2)\n    Line #165 (got 46 columns instead of 2)\n    Line #166 (got 46 columns instead of 2)\n    Line #167 (got 46 columns instead of 2)\n    Line #168 (got 45 columns instead of 2)\n    Line #169 (got 47 columns instead of 2)\n    Line #170 (got 43 columns instead of 2)\n    Line #171 (got 45 columns instead of 2)\n    Line #172 (got 45 columns instead of 2)\n    Line #173 (got 45 columns instead of 2)\n    Line #174 (got 45 columns instead of 2)\n    Line #175 (got 45 columns instead of 2)\n    Line #176 (got 45 columns instead of 2)\n    Line #177 (got 43 columns instead of 2)\n    Line #178 (got 45 columns instead of 2)\n    Line #179 (got 39 columns instead of 2)\n    Line #180 (got 44 columns instead of 2)\n    Line #181 (got 45 columns instead of 2)\n    Line #182 (got 45 columns instead of 2)\n    Line #183 (got 45 columns instead of 2)\n    Line #184 (got 39 columns instead of 2)\n    Line #185 (got 45 columns instead of 2)\n    Line #186 (got 45 columns instead of 2)\n    Line #187 (got 45 columns instead of 2)\n    Line #188 (got 46 columns instead of 2)\n    Line #189 (got 50 columns instead of 2)\n    Line #190 (got 45 columns instead of 2)\n    Line #191 (got 45 columns instead of 2)\n    Line #192 (got 40 columns instead of 2)\n    Line #193 (got 46 columns instead of 2)\n    Line #194 (got 45 columns instead of 2)\n    Line #195 (got 45 columns instead of 2)\n    Line #196 (got 45 columns instead of 2)\n    Line #197 (got 45 columns instead of 2)",
     "output_type": "error",
     "traceback": [
      "\u001b[0;31m---------------------------------------------------------------------------\u001b[0m",
      "\u001b[0;31mValueError\u001b[0m                                Traceback (most recent call last)",
      "Cell \u001b[0;32mIn [17], line 4\u001b[0m\n\u001b[1;32m      1\u001b[0m \u001b[38;5;28;01mimport\u001b[39;00m \u001b[38;5;21;01mnumpy\u001b[39;00m \u001b[38;5;28;01mas\u001b[39;00m \u001b[38;5;21;01mnp\u001b[39;00m\n\u001b[1;32m      3\u001b[0m data_path \u001b[38;5;241m=\u001b[39m \u001b[38;5;124m'\u001b[39m\u001b[38;5;124m./datasets/world-data-2023.csv\u001b[39m\u001b[38;5;124m'\u001b[39m\n\u001b[0;32m----> 4\u001b[0m data \u001b[38;5;241m=\u001b[39m \u001b[43mnp\u001b[49m\u001b[38;5;241;43m.\u001b[39;49m\u001b[43mgenfromtxt\u001b[49m\u001b[43m(\u001b[49m\u001b[43mdata_path\u001b[49m\u001b[43m,\u001b[49m\u001b[43m \u001b[49m\u001b[43mdelimiter\u001b[49m\u001b[38;5;241;43m=\u001b[39;49m\u001b[38;5;124;43m'\u001b[39;49m\u001b[38;5;124;43m,\u001b[39;49m\u001b[38;5;124;43m'\u001b[39;49m\u001b[43m,\u001b[49m\u001b[43m \u001b[49m\u001b[43mdtype\u001b[49m\u001b[38;5;241;43m=\u001b[39;49m\u001b[38;5;28;43;01mNone\u001b[39;49;00m\u001b[43m)\u001b[49m\n\u001b[1;32m      6\u001b[0m \u001b[38;5;28mprint\u001b[39m(data)\n",
      "File \u001b[0;32m/usr/lib/python3/dist-packages/numpy/lib/npyio.py:2309\u001b[0m, in \u001b[0;36mgenfromtxt\u001b[0;34m(fname, dtype, comments, delimiter, skip_header, skip_footer, converters, missing_values, filling_values, usecols, names, excludelist, deletechars, replace_space, autostrip, case_sensitive, defaultfmt, unpack, usemask, loose, invalid_raise, max_rows, encoding, ndmin, like)\u001b[0m\n\u001b[1;32m   2307\u001b[0m \u001b[38;5;66;03m# Raise an exception ?\u001b[39;00m\n\u001b[1;32m   2308\u001b[0m \u001b[38;5;28;01mif\u001b[39;00m invalid_raise:\n\u001b[0;32m-> 2309\u001b[0m     \u001b[38;5;28;01mraise\u001b[39;00m \u001b[38;5;167;01mValueError\u001b[39;00m(errmsg)\n\u001b[1;32m   2310\u001b[0m \u001b[38;5;66;03m# Issue a warning ?\u001b[39;00m\n\u001b[1;32m   2311\u001b[0m \u001b[38;5;28;01melse\u001b[39;00m:\n\u001b[1;32m   2312\u001b[0m     warnings\u001b[38;5;241m.\u001b[39mwarn(errmsg, ConversionWarning, stacklevel\u001b[38;5;241m=\u001b[39m\u001b[38;5;241m2\u001b[39m)\n",
      "\u001b[0;31mValueError\u001b[0m: Some errors were detected !\n    Line #2 (got 34 columns instead of 2)\n    Line #3 (got 45 columns instead of 2)\n    Line #4 (got 45 columns instead of 2)\n    Line #5 (got 46 columns instead of 2)\n    Line #6 (got 40 columns instead of 2)\n    Line #7 (got 46 columns instead of 2)\n    Line #8 (got 42 columns instead of 2)\n    Line #9 (got 46 columns instead of 2)\n    Line #10 (got 45 columns instead of 2)\n    Line #11 (got 47 columns instead of 2)\n    Line #12 (got 45 columns instead of 2)\n    Line #13 (got 45 columns instead of 2)\n    Line #14 (got 45 columns instead of 2)\n    Line #15 (got 45 columns instead of 2)\n    Line #16 (got 46 columns instead of 2)\n    Line #17 (got 42 columns instead of 2)\n    Line #18 (got 45 columns instead of 2)\n    Line #19 (got 45 columns instead of 2)\n    Line #20 (got 42 columns instead of 2)\n    Line #21 (got 45 columns instead of 2)\n    Line #22 (got 43 columns instead of 2)\n    Line #23 (got 46 columns instead of 2)\n    Line #24 (got 45 columns instead of 2)\n    Line #25 (got 45 columns instead of 2)\n    Line #26 (got 47 columns instead of 2)\n    Line #27 (got 43 columns instead of 2)\n    Line #28 (got 45 columns instead of 2)\n    Line #29 (got 45 columns instead of 2)\n    Line #30 (got 44 columns instead of 2)\n    Line #31 (got 45 columns instead of 2)\n    Line #32 (got 42 columns instead of 2)\n    Line #33 (got 45 columns instead of 2)\n    Line #34 (got 45 columns instead of 2)\n    Line #35 (got 47 columns instead of 2)\n    Line #36 (got 44 columns instead of 2)\n    Line #37 (got 46 columns instead of 2)\n    Line #38 (got 45 columns instead of 2)\n    Line #39 (got 50 columns instead of 2)\n    Line #40 (got 46 columns instead of 2)\n    Line #41 (got 43 columns instead of 2)\n    Line #42 (got 45 columns instead of 2)\n    Line #43 (got 45 columns instead of 2)\n    Line #44 (got 45 columns instead of 2)\n    Line #45 (got 45 columns instead of 2)\n    Line #46 (got 44 columns instead of 2)\n    Line #47 (got 45 columns instead of 2)\n    Line #48 (got 46 columns instead of 2)\n    Line #49 (got 45 columns instead of 2)\n    Line #50 (got 42 columns instead of 2)\n    Line #51 (got 39 columns instead of 2)\n    Line #52 (got 45 columns instead of 2)\n    Line #53 (got 45 columns instead of 2)\n    Line #54 (got 46 columns instead of 2)\n    Line #55 (got 45 columns instead of 2)\n    Line #56 (got 44 columns instead of 2)\n    Line #57 (got 44 columns instead of 2)\n    Line #58 (got 44 columns instead of 2)\n    Line #59 (got 41 columns instead of 2)\n    Line #60 (got 46 columns instead of 2)\n    Line #61 (got 43 columns instead of 2)\n    Line #62 (got 45 columns instead of 2)\n    Line #63 (got 46 columns instead of 2)\n    Line #64 (got 45 columns instead of 2)\n    Line #65 (got 44 columns instead of 2)\n    Line #66 (got 45 columns instead of 2)\n    Line #67 (got 46 columns instead of 2)\n    Line #68 (got 45 columns instead of 2)\n    Line #69 (got 45 columns instead of 2)\n    Line #70 (got 42 columns instead of 2)\n    Line #71 (got 45 columns instead of 2)\n    Line #72 (got 45 columns instead of 2)\n    Line #73 (got 43 columns instead of 2)\n    Line #74 (got 45 columns instead of 2)\n    Line #75 (got 44 columns instead of 2)\n    Line #76 (got 36 columns instead of 2)\n    Line #77 (got 45 columns instead of 2)\n    Line #78 (got 45 columns instead of 2)\n    Line #79 (got 42 columns instead of 2)\n    Line #80 (got 50 columns instead of 2)\n    Line #81 (got 47 columns instead of 2)\n    Line #82 (got 46 columns instead of 2)\n    Line #83 (got 45 columns instead of 2)\n    Line #84 (got 45 columns instead of 2)\n    Line #85 (got 45 columns instead of 2)\n    Line #86 (got 46 columns instead of 2)\n    Line #87 (got 47 columns instead of 2)\n    Line #88 (got 47 columns instead of 2)\n    Line #89 (got 45 columns instead of 2)\n    Line #90 (got 46 columns instead of 2)\n    Line #91 (got 45 columns instead of 2)\n    Line #92 (got 39 columns instead of 2)\n    Line #93 (got 45 columns instead of 2)\n    Line #94 (got 45 columns instead of 2)\n    Line #95 (got 45 columns instead of 2)\n    Line #96 (got 45 columns instead of 2)\n    Line #97 (got 46 columns instead of 2)\n    Line #98 (got 44 columns instead of 2)\n    Line #99 (got 45 columns instead of 2)\n    Line #100 (got 45 columns instead of 2)\n    Line #101 (got 40 columns instead of 2)\n    Line #102 (got 45 columns instead of 2)\n    Line #103 (got 43 columns instead of 2)\n    Line #104 (got 45 columns instead of 2)\n    Line #105 (got 45 columns instead of 2)\n    Line #106 (got 45 columns instead of 2)\n    Line #107 (got 43 columns instead of 2)\n    Line #108 (got 46 columns instead of 2)\n    Line #109 (got 43 columns instead of 2)\n    Line #110 (got 39 columns instead of 2)\n    Line #111 (got 46 columns instead of 2)\n    Line #112 (got 44 columns instead of 2)\n    Line #113 (got 47 columns instead of 2)\n    Line #114 (got 39 columns instead of 2)\n    Line #115 (got 45 columns instead of 2)\n    Line #116 (got 41 columns instead of 2)\n    Line #117 (got 46 columns instead of 2)\n    Line #118 (got 43 columns instead of 2)\n    Line #119 (got 45 columns instead of 2)\n    Line #120 (got 45 columns instead of 2)\n    Line #121 (got 45 columns instead of 2)\n    Line #122 (got 45 columns instead of 2)\n    Line #123 (got 38 columns instead of 2)\n    Line #124 (got 45 columns instead of 2)\n    Line #125 (got 45 columns instead of 2)\n    Line #126 (got 45 columns instead of 2)\n    Line #127 (got 45 columns instead of 2)\n    Line #128 (got 46 columns instead of 2)\n    Line #129 (got 45 columns instead of 2)\n    Line #130 (got 46 columns instead of 2)\n    Line #131 (got 41 columns instead of 2)\n    Line #132 (got 45 columns instead of 2)\n    Line #133 (got 45 columns instead of 2)\n    Line #134 (got 45 columns instead of 2)\n    Line #135 (got 39 columns instead of 2)\n    Line #136 (got 35 columns instead of 2)\n    Line #137 (got 45 columns instead of 2)\n    Line #138 (got 45 columns instead of 2)\n    Line #139 (got 45 columns instead of 2)\n    Line #140 (got 46 columns instead of 2)\n    Line #141 (got 45 columns instead of 2)\n    Line #142 (got 45 columns instead of 2)\n    Line #143 (got 45 columns instead of 2)\n    Line #144 (got 45 columns instead of 2)\n    Line #145 (got 45 columns instead of 2)\n    Line #146 (got 49 columns instead of 2)\n    Line #147 (got 45 columns instead of 2)\n    Line #148 (got 40 columns instead of 2)\n    Line #149 (got 40 columns instead of 2)\n    Line #150 (got 39 columns instead of 2)\n    Line #151 (got 40 columns instead of 2)\n    Line #152 (got 40 columns instead of 2)\n    Line #153 (got 40 columns instead of 2)\n    Line #154 (got 46 columns instead of 2)\n    Line #155 (got 45 columns instead of 2)\n    Line #156 (got 45 columns instead of 2)\n    Line #157 (got 42 columns instead of 2)\n    Line #158 (got 45 columns instead of 2)\n    Line #159 (got 45 columns instead of 2)\n    Line #160 (got 45 columns instead of 2)\n    Line #161 (got 45 columns instead of 2)\n    Line #162 (got 41 columns instead of 2)\n    Line #163 (got 44 columns instead of 2)\n    Line #164 (got 46 columns instead of 2)\n    Line #165 (got 46 columns instead of 2)\n    Line #166 (got 46 columns instead of 2)\n    Line #167 (got 46 columns instead of 2)\n    Line #168 (got 45 columns instead of 2)\n    Line #169 (got 47 columns instead of 2)\n    Line #170 (got 43 columns instead of 2)\n    Line #171 (got 45 columns instead of 2)\n    Line #172 (got 45 columns instead of 2)\n    Line #173 (got 45 columns instead of 2)\n    Line #174 (got 45 columns instead of 2)\n    Line #175 (got 45 columns instead of 2)\n    Line #176 (got 45 columns instead of 2)\n    Line #177 (got 43 columns instead of 2)\n    Line #178 (got 45 columns instead of 2)\n    Line #179 (got 39 columns instead of 2)\n    Line #180 (got 44 columns instead of 2)\n    Line #181 (got 45 columns instead of 2)\n    Line #182 (got 45 columns instead of 2)\n    Line #183 (got 45 columns instead of 2)\n    Line #184 (got 39 columns instead of 2)\n    Line #185 (got 45 columns instead of 2)\n    Line #186 (got 45 columns instead of 2)\n    Line #187 (got 45 columns instead of 2)\n    Line #188 (got 46 columns instead of 2)\n    Line #189 (got 50 columns instead of 2)\n    Line #190 (got 45 columns instead of 2)\n    Line #191 (got 45 columns instead of 2)\n    Line #192 (got 40 columns instead of 2)\n    Line #193 (got 46 columns instead of 2)\n    Line #194 (got 45 columns instead of 2)\n    Line #195 (got 45 columns instead of 2)\n    Line #196 (got 45 columns instead of 2)\n    Line #197 (got 45 columns instead of 2)"
     ]
    }
   ],
   "source": [
    "import numpy as np\n",
    "\n",
    "data_path = './datasets/world-data-2023.csv'\n",
    "data = np.genfromtxt(data_path, delimiter=',', dtype=None)\n",
    "\n",
    "print(data)"
   ]
  },
  {
   "cell_type": "markdown",
   "id": "add0690d",
   "metadata": {},
   "source": [
    "##### 2.3. Графические представления"
   ]
  },
  {
   "cell_type": "code",
   "execution_count": null,
   "id": "c92c378d",
   "metadata": {},
   "outputs": [],
   "source": []
  },
  {
   "cell_type": "markdown",
   "id": "8d7491a1",
   "metadata": {},
   "source": [
    "### Контрольные вопросы\n",
    "\n",
    "1. Какие инструментальные средства используются для организации рабочего места специалиста Data Science?\n",
    "\n",
    "    Ответ:\n",
    "\n",
    "2. Какие библиотеки Python используются для работы в области машинного обучения? Дайте краткую характеристику каждой библиотеке.\n",
    "\n",
    "    Ответ:\n",
    "\n",
    "3. Почему при реализации систем машинного обучения широкое распространение получили библиотеки Python?\n",
    "\n",
    "    Ответ:"
   ]
  },
  {
   "cell_type": "code",
   "execution_count": null,
   "id": "7151ede9",
   "metadata": {},
   "outputs": [],
   "source": []
  }
 ],
 "metadata": {
  "kernelspec": {
   "display_name": "Python 3 (ipykernel)",
   "language": "python",
   "name": "python3"
  },
  "language_info": {
   "codemirror_mode": {
    "name": "ipython",
    "version": 3
   },
   "file_extension": ".py",
   "mimetype": "text/x-python",
   "name": "python",
   "nbconvert_exporter": "python",
   "pygments_lexer": "ipython3",
   "version": "3.11.4"
  }
 },
 "nbformat": 4,
 "nbformat_minor": 5
}
